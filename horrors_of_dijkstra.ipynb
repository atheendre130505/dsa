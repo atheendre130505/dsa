{
  "nbformat": 4,
  "nbformat_minor": 0,
  "metadata": {
    "colab": {
      "provenance": []
    },
    "kernelspec": {
      "name": "python3",
      "display_name": "Python 3"
    },
    "language_info": {
      "name": "python"
    }
  },
  "cells": [
    {
      "cell_type": "code",
      "execution_count": 9,
      "metadata": {
        "id": "wAmwl77d7FNA"
      },
      "outputs": [],
      "source": [
        "weighted_graph = {\n",
        "    \"A\": {\"B\": 4, \"C\": 2},\n",
        "    \"B\": {\"C\": 1, \"D\": 5},\n",
        "    \"C\": {\"D\": 8, \"E\": 10},\n",
        "    \"D\": {\"E\": 2},\n",
        "    \"E\": {}\n",
        "}\n"
      ]
    },
    {
      "cell_type": "code",
      "source": [
        "import heapq\n",
        "def dijkstra(graph,node):\n",
        "\n",
        "  distances={i:float(\"inf\") for i in graph}\n",
        "  distances[node]=0\n",
        "  priorityq=[(0,node)]\n",
        "  visited=set()\n",
        "\n",
        "  while priorityq:\n",
        "    current_weight,current_node=heapq.heappop(priorityq)\n",
        "    if current_node in visited:\n",
        "      continue\n",
        "\n",
        "    visited.add(current_node)\n",
        "    for neighbour,weight in graph[current_node].items():\n",
        "      total_weight=weight+current_weight\n",
        "\n",
        "      if total_weight<distances[neighbour]:\n",
        "        distances[neighbour]=total_weight\n",
        "\n",
        "        heapq.heappush(priorityq,(total_weight,neighbour))\n",
        "\n",
        "  return distances"
      ],
      "metadata": {
        "id": "cSj46h43GbMc"
      },
      "execution_count": 15,
      "outputs": []
    },
    {
      "cell_type": "code",
      "source": [
        "dijkstra(weighted_graph,'A')"
      ],
      "metadata": {
        "colab": {
          "base_uri": "https://localhost:8080/"
        },
        "id": "LccCik-wJyaE",
        "outputId": "9ee2f384-808c-435c-e922-99f24f0d0d01"
      },
      "execution_count": 16,
      "outputs": [
        {
          "output_type": "execute_result",
          "data": {
            "text/plain": [
              "{'A': 0, 'B': 4, 'C': 2, 'D': 9, 'E': 11}"
            ]
          },
          "metadata": {},
          "execution_count": 16
        }
      ]
    },
    {
      "cell_type": "code",
      "source": [],
      "metadata": {
        "id": "pW9aeN8TJ2gp"
      },
      "execution_count": null,
      "outputs": []
    }
  ]
}