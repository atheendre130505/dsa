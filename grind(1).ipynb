{
  "nbformat": 4,
  "nbformat_minor": 0,
  "metadata": {
    "colab": {
      "provenance": []
    },
    "kernelspec": {
      "name": "python3",
      "display_name": "Python 3"
    },
    "language_info": {
      "name": "python"
    }
  },
  "cells": [
    {
      "cell_type": "code",
      "execution_count": null,
      "metadata": {
        "id": "yaZL_5GUQPu5"
      },
      "outputs": [],
      "source": [
        "class node:\n",
        "  def __init__(self,value):\n",
        "    self.value=value\n",
        "    self.next=None\n",
        "\n",
        "n1=node(1)\n",
        "n2=node(2)\n",
        "n3=node(3)\n",
        "n4=node(4)\n",
        "\n",
        "n1.next=n2\n",
        "n2.next=n3\n",
        "n3.next=n4\n",
        "n4.next=n1\n"
      ]
    },
    {
      "cell_type": "code",
      "source": [
        "def traverse(head):\n",
        "  if head is None:\n",
        "    return None\n",
        "\n",
        "  print(head.value,\"\\n\")\n",
        "\n",
        "  current=head.next\n",
        "\n",
        "  while current is not head:\n",
        "    print(current.value,\"\\n\")\n",
        "    current=current.next\n",
        "traverse(n1)"
      ],
      "metadata": {
        "colab": {
          "base_uri": "https://localhost:8080/"
        },
        "id": "hQa5waxy0eSY",
        "outputId": "a6815ddf-8282-4f64-cdcd-881540318e80"
      },
      "execution_count": null,
      "outputs": [
        {
          "output_type": "stream",
          "name": "stdout",
          "text": [
            "1 \n",
            "\n",
            "2 \n",
            "\n",
            "3 \n",
            "\n",
            "4 \n",
            "\n"
          ]
        }
      ]
    },
    {
      "cell_type": "code",
      "source": [
        "\"\"\"\n",
        "if the head node is empty then set the head node with the new value\n",
        "what to achieve:\n",
        "1. the new nodes next should be the head node\n",
        "2. the last nodes next should be the new node\n",
        "\n",
        "loop till you reach the head node, ie current.next is head and then stop\n",
        "then set current.next to new node\n",
        "then return new node\n",
        "\n",
        "\n",
        "\"\"\""
      ],
      "metadata": {
        "colab": {
          "base_uri": "https://localhost:8080/",
          "height": 72
        },
        "id": "4B1PfLUX3AK4",
        "outputId": "dcd5cd8d-53c2-43b7-dbad-7382170d8ef8"
      },
      "execution_count": null,
      "outputs": [
        {
          "output_type": "execute_result",
          "data": {
            "text/plain": [
              "'\\nif the head node is empty then set the head node with the new value\\nwhat to achieve:\\n1. the new nodes next should be the head node\\n2. the last nodes next should be the new node\\n\\nloop till you reach the head node, ie current.next is head and then stop\\nthen set current.next to new node\\nthen return new node\\n\\n\\n'"
            ],
            "application/vnd.google.colaboratory.intrinsic+json": {
              "type": "string"
            }
          },
          "metadata": {},
          "execution_count": 3
        }
      ]
    },
    {
      "cell_type": "code",
      "source": [
        "def add_at_beg(head,value):\n",
        "  if head is None:\n",
        "    head=node(value)\n",
        "    return head\n",
        "\n",
        "  new_node=node(value)\n",
        "  new_node.next=head\n",
        "\n",
        "  current=head\n",
        "\n",
        "  while current.next is not head:\n",
        "    current=current.next\n",
        "\n",
        "  current.next=new_node\n",
        "\n",
        "  return new_node\n",
        "\n",
        "x=add_at_beg(n1,1)\n",
        "\n",
        "\n",
        "\n",
        "traverse(x)"
      ],
      "metadata": {
        "id": "NEBsqROtbBtu",
        "colab": {
          "base_uri": "https://localhost:8080/"
        },
        "outputId": "fd94a9b1-4995-410e-a4e9-c5f6873d6037"
      },
      "execution_count": null,
      "outputs": [
        {
          "output_type": "stream",
          "name": "stdout",
          "text": [
            "1 \n",
            "\n",
            "1 \n",
            "\n",
            "2 \n",
            "\n",
            "3 \n",
            "\n",
            "4 \n",
            "\n"
          ]
        }
      ]
    },
    {
      "cell_type": "code",
      "source": [
        "\"\"\"\n",
        "add at a position\n",
        "1. take the position node and head node as input\n",
        "2. go to the previous element of the position, that is if  current_pos+1 == pos then stop and set current.next to the new node and new node.next to current.next.next\n",
        "\n",
        "\n",
        "\"\"\""
      ],
      "metadata": {
        "colab": {
          "base_uri": "https://localhost:8080/",
          "height": 72
        },
        "id": "Z9Gg1CQD004B",
        "outputId": "d7a67d51-4ea7-4e1d-cd44-646d5102c85c"
      },
      "execution_count": null,
      "outputs": [
        {
          "output_type": "execute_result",
          "data": {
            "text/plain": [
              "'\\nadd at a position\\n1. take the position node and head node as input\\n2. go to the previous element of the position, that is if  current_pos+1 == pos then stop and set current.next to the new node and new node.next to current.next.next\\n\\n\\n'"
            ],
            "application/vnd.google.colaboratory.intrinsic+json": {
              "type": "string"
            }
          },
          "metadata": {},
          "execution_count": 5
        }
      ]
    },
    {
      "cell_type": "code",
      "source": [
        "def add_at_pos(head,value,pos):\n",
        "  if head is None and pos!=0:\n",
        "    return None\n",
        "\n",
        "  new_node=node(value)\n",
        "  current=head\n",
        "  current_pos=0\n",
        "\n",
        "  while current_pos+1!=pos:\n",
        "    current_pos+=1\n",
        "    current=current.next\n",
        "\n",
        "  x=current.next\n",
        "  current.next=new_node\n",
        "  new_node.next=x\n",
        "\n",
        "add_at_pos(x,2,1)"
      ],
      "metadata": {
        "id": "pD5gzmqw78uv"
      },
      "execution_count": null,
      "outputs": []
    },
    {
      "cell_type": "code",
      "source": [
        "traverse(x)"
      ],
      "metadata": {
        "colab": {
          "base_uri": "https://localhost:8080/"
        },
        "id": "RSi3Y6bx9NmN",
        "outputId": "2712fcb8-7091-4814-a7e3-dfe38fb7536e"
      },
      "execution_count": null,
      "outputs": [
        {
          "output_type": "stream",
          "name": "stdout",
          "text": [
            "1 \n",
            "\n",
            "2 \n",
            "\n",
            "1 \n",
            "\n",
            "2 \n",
            "\n",
            "3 \n",
            "\n",
            "4 \n",
            "\n"
          ]
        }
      ]
    },
    {
      "cell_type": "code",
      "source": [
        "def remove_node_val(head,value):\n",
        "  if head is None:\n",
        "    return None\n",
        "\n",
        "\n",
        "  current= head\n",
        "  while current.next.value is not value:\n",
        "    current=current.next\n",
        "\n",
        "  current.next=current.next.next\n",
        "\n",
        "remove_node_val(x,1)\n",
        "traverse(x)\n",
        "\n"
      ],
      "metadata": {
        "colab": {
          "base_uri": "https://localhost:8080/"
        },
        "id": "x_pkdAZx9dFY",
        "outputId": "d469011e-4f49-418c-e967-3f7a0d0726bf"
      },
      "execution_count": null,
      "outputs": [
        {
          "output_type": "stream",
          "name": "stdout",
          "text": [
            "1 \n",
            "\n",
            "2 \n",
            "\n",
            "2 \n",
            "\n",
            "3 \n",
            "\n",
            "4 \n",
            "\n"
          ]
        }
      ]
    },
    {
      "cell_type": "code",
      "source": [
        "def remove_at_pos(head,value,pos):\n",
        "  if head is None:\n",
        "    return None\n",
        "  current=head\n",
        "  current_pos=0\n",
        "\n",
        "  while current_pos+1!=pos:\n",
        "    current_pos+=1\n",
        "    current=current.next\n",
        "\n",
        "  x=current.next.next\n",
        "  current.next=x\n",
        "\n",
        "remove_at_pos(x,1,2)\n",
        "traverse(x)"
      ],
      "metadata": {
        "colab": {
          "base_uri": "https://localhost:8080/"
        },
        "id": "mTPlPqQfVUy_",
        "outputId": "9e04c44c-ac25-44b4-8a67-625f9ff72ec9"
      },
      "execution_count": null,
      "outputs": [
        {
          "output_type": "stream",
          "name": "stdout",
          "text": [
            "1 \n",
            "\n",
            "2 \n",
            "\n",
            "4 \n",
            "\n"
          ]
        }
      ]
    },
    {
      "cell_type": "code",
      "source": [
        "def remove_at_beg(head):\n",
        "  if head is None:\n",
        "    return None\n",
        "\n",
        "  current=head\n",
        "  x=head.next\n",
        "  while current.next is not head:\n",
        "    current=current.next\n",
        "\n",
        "  current.next=x\n",
        "\n",
        "  return current.next\n",
        "\n",
        "x=remove_at_beg(x)\n",
        "traverse(x)"
      ],
      "metadata": {
        "colab": {
          "base_uri": "https://localhost:8080/"
        },
        "id": "Nwyyt4JOB4a6",
        "outputId": "c74b7cfc-3045-47c8-9db6-786ee95be005"
      },
      "execution_count": null,
      "outputs": [
        {
          "output_type": "stream",
          "name": "stdout",
          "text": [
            "2 \n",
            "\n",
            "2 \n",
            "\n",
            "3 \n",
            "\n",
            "4 \n",
            "\n"
          ]
        }
      ]
    },
    {
      "cell_type": "code",
      "source": [
        "def find_lca(root,n1,n2):\n",
        "  if root is None:\n",
        "    return None\n",
        "  if root is n1 or root is n2:\n",
        "    return root\n",
        "\n",
        "  left_lca=find_lca(root.left,n1,n2)\n",
        "  right_lca=find_lca(root.right,n1,n2)\n",
        "\n",
        "  if left_lca or right_lca:\n",
        "    return root\n",
        "\n",
        "  return left_lca if left_lca else right_lca\n",
        "\n"
      ],
      "metadata": {
        "id": "5Sx-kOFzDScx"
      },
      "execution_count": null,
      "outputs": []
    },
    {
      "cell_type": "code",
      "source": [
        "def grandchildren(root,target):\n",
        "  if root is None:\n",
        "    return []\n",
        "\n",
        "  if root.value==target:\n",
        "    granchildren=[]\n",
        "    if root.left:\n",
        "      if root.left.left:\n",
        "        grandchildren.append(root.left.left.value)\n",
        "      if root.left.right:\n",
        "        grandchildren.append(root.left.right.value)\n",
        "    if root.right:\n",
        "      if root.right.left:\n",
        "        grandchildren.append(root.right.left.value)\n",
        "      if root.right.right:\n",
        "        grandchildren.append(root.right.right.value)\n",
        "  return grandchildren\n",
        "\n",
        "\n",
        "  if granchildren(root.left,target):\n",
        "    return granchildren(root.left,target)\n",
        "  return grandchildren(root.right,target)\n"
      ],
      "metadata": {
        "id": "lT2yZkGAU5bS"
      },
      "execution_count": null,
      "outputs": []
    },
    {
      "cell_type": "code",
      "source": [
        "class stack:\n",
        "  def __init__(self):\n",
        "    self.top=None\n",
        "  def push(self,value):\n",
        "    if self.top is None:\n",
        "      self.top=node(value)\n",
        "\n",
        "    else:\n",
        "      new_node=node(value)\n",
        "      x=self.top\n",
        "      self.top=new_node\n",
        "      self.top.next=x\n",
        "\n",
        "  def pop(self):\n",
        "    if self.top is None:\n",
        "      return None\n",
        "\n",
        "    else:\n",
        "      x=self.top\n",
        "      self.top=self.top.next\n",
        "      return x.value\n",
        "\n",
        "  def is_empty(self):\n",
        "    return True if self.top is None else False\n",
        "\n",
        "  def peek(self):\n",
        "    return self.top.value if self.top is not None else None\n",
        "\n"
      ],
      "metadata": {
        "id": "ssgVNJqkq2Q4"
      },
      "execution_count": null,
      "outputs": []
    },
    {
      "cell_type": "code",
      "source": [
        "class queue:\n",
        "  def __init__(self):\n",
        "    self.front=None\n",
        "    self.rear=None\n",
        "    self.len=0\n",
        "\n",
        "  def enqueue(self,value):\n",
        "    if self.front is None:\n",
        "      self.front=node(value)\n",
        "      self.len+=1\n",
        "      self.rear=self.front\n",
        "\n",
        "    else:\n",
        "      new_node=node(value)\n",
        "      self.rear.next=new_node\n",
        "      self.rear=self.rear.next\n",
        "      self.len+=1\n",
        "\n",
        "  def dequeue(self):\n",
        "    if self.front is None:\n",
        "      return None\n",
        "\n",
        "    x=self.front\n",
        "    self.front=self.front.next\n",
        "    self.len-=1\n",
        "    return x\n",
        "\n",
        "  def peek(self):\n",
        "    return self.front.value if self.front is not None else None\n",
        "\n",
        "  def is_empty(self):\n",
        "    return True if self.front is not None else False\n",
        "\n",
        "  def size(self):\n",
        "    return self.len"
      ],
      "metadata": {
        "id": "u58_iVDqss7Y"
      },
      "execution_count": null,
      "outputs": []
    },
    {
      "cell_type": "code",
      "source": [
        "def add(n):\n",
        "  strt=str(n)\n",
        "  if len(strt)==1:\n",
        "    return int(strt)\n",
        "  sum=0\n",
        "  sum+=add(int(strt[-1]))\n",
        "  return sum\n",
        "\n",
        "add(123)"
      ],
      "metadata": {
        "id": "nC9qpLMmHO44",
        "colab": {
          "base_uri": "https://localhost:8080/"
        },
        "outputId": "76aed757-efe3-4bc9-f7a5-9766963bbbe3"
      },
      "execution_count": 2,
      "outputs": [
        {
          "output_type": "execute_result",
          "data": {
            "text/plain": [
              "3"
            ]
          },
          "metadata": {},
          "execution_count": 2
        }
      ]
    },
    {
      "cell_type": "code",
      "source": [],
      "metadata": {
        "id": "UQV-41OHHhM6"
      },
      "execution_count": null,
      "outputs": []
    }
  ]
}